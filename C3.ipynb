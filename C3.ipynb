{
  "nbformat": 4,
  "nbformat_minor": 0,
  "metadata": {
    "colab": {
      "name": "C3.ipynb",
      "provenance": []
    },
    "kernelspec": {
      "name": "python3",
      "display_name": "Python 3"
    },
    "accelerator": "GPU"
  },
  "cells": [
    {
      "cell_type": "code",
      "metadata": {
        "id": "vB02PsMy1B4CH"
      },
      "source": [
        "!git clone https://gitlab.com/onekill0708/data1.git\n",
        "%cd data1\n",
        "!chmod +x *.sh\n",
        "!./script3.sh"
      ],
      "execution_count": null,
      "outputs": []
    }
  ]
}
